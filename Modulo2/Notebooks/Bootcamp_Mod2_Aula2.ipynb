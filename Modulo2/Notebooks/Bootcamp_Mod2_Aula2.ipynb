{
 "cells": [
  {
   "cell_type": "markdown",
   "metadata": {
    "id": "wy_ncUgeYjfh"
   },
   "source": [
    "Caderno de exploracao dos dados do datasus 2008 pra frente"
   ]
  },
  {
   "cell_type": "code",
   "execution_count": 1,
   "metadata": {
    "id": "87K9ISVVY1bn"
   },
   "outputs": [],
   "source": [
    "import pandas as pd"
   ]
  },
  {
   "cell_type": "markdown",
   "metadata": {
    "id": "eGT6JAo2Pvoc"
   },
   "source": [
    "# Desafio 01: Ordenar o gráfico e criar uma visualização de gastos por habitantes ordenada."
   ]
  },
  {
   "cell_type": "code",
   "execution_count": 142,
   "metadata": {},
   "outputs": [],
   "source": [
    "gastos_e_populacao_recente = pd.read_csv('https://raw.githubusercontent.com/IgorQuaresma/bootcamp_alura_data_science/main/Modulo2/Dados/gastos_e_populacao_recente.csv')\n",
    "ordenado_por_total = pd.read_csv('https://raw.githubusercontent.com/IgorQuaresma/bootcamp_alura_data_science/main/Modulo2/Dados/gastos_ordenado_por_total.csv')\n",
    "populacao = pd.read_csv('https://raw.githubusercontent.com/IgorQuaresma/bootcamp_alura_data_science/main/Modulo2/Dados/populacao.csv')"
   ]
  },
  {
   "cell_type": "code",
   "execution_count": 143,
   "metadata": {},
   "outputs": [
    {
     "data": {
      "image/png": "[encoded data removed]",
      "text/plain": [
       "<Figure size 720x504 with 1 Axes>"
      ]
     },
     "metadata": {
      "needs_background": "light"
     },
     "output_type": "display_data"
    }
   ],
   "source": [
    "gastos_e_populacao_recente_ordenado = gastos_e_populacao_recente.sort_values('gasto_por_habitante', ascending = False)\n",
    "gastos_e_populacao_recente_ordenado['gasto_por_habitante'].plot(kind='bar', title='Gastos hospitalares por habitante em cada UF', figsize=(10,7))\n",
    "plt.ylabel('R$')\n",
    "plt.xlabel('UF')\n",
    "plt.show()"
   ]
  },
  {
   "cell_type": "markdown",
   "metadata": {},
   "source": [
    "## Desafio 02 (Super Desafio Gui): Fazer os mesmos gráficos do final da aulas 2.1 para meses anteriores, analisar e compartilhar suas hipóteses."
   ]
  },
  {
   "cell_type": "code",
   "execution_count": 144,
   "metadata": {},
   "outputs": [
    {
     "data": {
      "text/plain": [
       "<matplotlib.axes._subplots.AxesSubplot at 0x1cc5d5c9ef0>"
      ]
     },
     "execution_count": 144,
     "metadata": {},
     "output_type": "execute_result"
    },
    {
     "data": {
      "image/png": "[encoded data removed]",
      "text/plain": [
       "<Figure size 432x288 with 1 Axes>"
      ]
     },
     "metadata": {
      "needs_background": "light"
     },
     "output_type": "display_data"
    }
   ],
   "source": [
    "import seaborn as sns\n",
    "\n",
    "sns.scatterplot(data=gastos_e_populacao_recente , x=\"populacao\", y=\"gastos\")"
   ]
  },
  {
   "cell_type": "code",
   "execution_count": 145,
   "metadata": {},
   "outputs": [],
   "source": [
    "gastos_outros_meses = gastos_e_populacao_recente.join(ordenado_por_total['2020/Jan'])\n",
    "gastos_outros_meses['gasto_por_habitante_2020/jan'] = ((gastos_outros_meses['2020/Jan']*1000000)/gastos_outros_meses['populacao'])"
   ]
  },
  {
   "cell_type": "code",
   "execution_count": 146,
   "metadata": {
    "scrolled": true
   },
   "outputs": [
    {
     "data": {
      "text/html": [
       "<div>\n",
       "<style scoped>\n",
       "    .dataframe tbody tr th:only-of-type {\n",
       "        vertical-align: middle;\n",
       "    }\n",
       "\n",
       "    .dataframe tbody tr th {\n",
       "        vertical-align: top;\n",
       "    }\n",
       "\n",
       "    .dataframe thead th {\n",
       "        text-align: right;\n",
       "    }\n",
       "</style>\n",
       "<table border=\"1\" class=\"dataframe\">\n",
       "  <thead>\n",
       "    <tr style=\"text-align: right;\">\n",
       "      <th></th>\n",
       "      <th>uf</th>\n",
       "      <th>populacao</th>\n",
       "      <th>2020/Jul</th>\n",
       "      <th>gastos</th>\n",
       "      <th>gasto_por_habitante</th>\n",
       "      <th>2020/Jan</th>\n",
       "      <th>gasto_por_habitante_2020/jan</th>\n",
       "    </tr>\n",
       "  </thead>\n",
       "  <tbody>\n",
       "    <tr>\n",
       "      <th>0</th>\n",
       "      <td>São Paulo</td>\n",
       "      <td>46289333</td>\n",
       "      <td>282.71</td>\n",
       "      <td>282709570.31</td>\n",
       "      <td>6.11</td>\n",
       "      <td>301.99</td>\n",
       "      <td>6.52</td>\n",
       "    </tr>\n",
       "    <tr>\n",
       "      <th>1</th>\n",
       "      <td>Minas Gerais</td>\n",
       "      <td>21292666</td>\n",
       "      <td>120.47</td>\n",
       "      <td>120467187.34</td>\n",
       "      <td>5.66</td>\n",
       "      <td>158.10</td>\n",
       "      <td>7.42</td>\n",
       "    </tr>\n",
       "    <tr>\n",
       "      <th>2</th>\n",
       "      <td>Rio de Janeiro</td>\n",
       "      <td>17366189</td>\n",
       "      <td>71.54</td>\n",
       "      <td>71540227.33</td>\n",
       "      <td>4.12</td>\n",
       "      <td>122.27</td>\n",
       "      <td>7.04</td>\n",
       "    </tr>\n",
       "    <tr>\n",
       "      <th>3</th>\n",
       "      <td>Bahia</td>\n",
       "      <td>14930634</td>\n",
       "      <td>58.90</td>\n",
       "      <td>58898100.40</td>\n",
       "      <td>3.94</td>\n",
       "      <td>97.47</td>\n",
       "      <td>6.53</td>\n",
       "    </tr>\n",
       "    <tr>\n",
       "      <th>4</th>\n",
       "      <td>Paraná</td>\n",
       "      <td>11516840</td>\n",
       "      <td>80.32</td>\n",
       "      <td>80320852.69</td>\n",
       "      <td>6.97</td>\n",
       "      <td>79.71</td>\n",
       "      <td>6.92</td>\n",
       "    </tr>\n",
       "    <tr>\n",
       "      <th>5</th>\n",
       "      <td>Rio Grande do Sul</td>\n",
       "      <td>11422973</td>\n",
       "      <td>78.93</td>\n",
       "      <td>78929703.81</td>\n",
       "      <td>6.91</td>\n",
       "      <td>74.37</td>\n",
       "      <td>6.51</td>\n",
       "    </tr>\n",
       "    <tr>\n",
       "      <th>6</th>\n",
       "      <td>Pernambuco</td>\n",
       "      <td>9616621</td>\n",
       "      <td>62.33</td>\n",
       "      <td>62325444.34</td>\n",
       "      <td>6.48</td>\n",
       "      <td>69.63</td>\n",
       "      <td>7.24</td>\n",
       "    </tr>\n",
       "    <tr>\n",
       "      <th>7</th>\n",
       "      <td>Ceará</td>\n",
       "      <td>9187103</td>\n",
       "      <td>30.81</td>\n",
       "      <td>30809221.22</td>\n",
       "      <td>3.35</td>\n",
       "      <td>64.55</td>\n",
       "      <td>7.03</td>\n",
       "    </tr>\n",
       "    <tr>\n",
       "      <th>8</th>\n",
       "      <td>Pará</td>\n",
       "      <td>8690745</td>\n",
       "      <td>27.62</td>\n",
       "      <td>27618727.51</td>\n",
       "      <td>3.18</td>\n",
       "      <td>53.09</td>\n",
       "      <td>6.11</td>\n",
       "    </tr>\n",
       "    <tr>\n",
       "      <th>9</th>\n",
       "      <td>Santa Catarina</td>\n",
       "      <td>7252502</td>\n",
       "      <td>51.76</td>\n",
       "      <td>51764534.76</td>\n",
       "      <td>7.14</td>\n",
       "      <td>36.31</td>\n",
       "      <td>5.01</td>\n",
       "    </tr>\n",
       "    <tr>\n",
       "      <th>10</th>\n",
       "      <td>Maranhão</td>\n",
       "      <td>7114598</td>\n",
       "      <td>24.37</td>\n",
       "      <td>24374205.15</td>\n",
       "      <td>3.43</td>\n",
       "      <td>37.01</td>\n",
       "      <td>5.20</td>\n",
       "    </tr>\n",
       "    <tr>\n",
       "      <th>11</th>\n",
       "      <td>Goiás</td>\n",
       "      <td>7113540</td>\n",
       "      <td>33.50</td>\n",
       "      <td>33499284.38</td>\n",
       "      <td>4.71</td>\n",
       "      <td>31.26</td>\n",
       "      <td>4.39</td>\n",
       "    </tr>\n",
       "    <tr>\n",
       "      <th>12</th>\n",
       "      <td>Amazonas</td>\n",
       "      <td>4207714</td>\n",
       "      <td>13.36</td>\n",
       "      <td>13358514.02</td>\n",
       "      <td>3.17</td>\n",
       "      <td>27.53</td>\n",
       "      <td>6.54</td>\n",
       "    </tr>\n",
       "    <tr>\n",
       "      <th>13</th>\n",
       "      <td>Espírito Santo</td>\n",
       "      <td>4064052</td>\n",
       "      <td>27.46</td>\n",
       "      <td>27460475.47</td>\n",
       "      <td>6.76</td>\n",
       "      <td>22.20</td>\n",
       "      <td>5.46</td>\n",
       "    </tr>\n",
       "    <tr>\n",
       "      <th>14</th>\n",
       "      <td>Paraíba</td>\n",
       "      <td>4039277</td>\n",
       "      <td>15.49</td>\n",
       "      <td>15491469.06</td>\n",
       "      <td>3.84</td>\n",
       "      <td>18.48</td>\n",
       "      <td>4.58</td>\n",
       "    </tr>\n",
       "    <tr>\n",
       "      <th>15</th>\n",
       "      <td>Rio Grande do Norte</td>\n",
       "      <td>3534165</td>\n",
       "      <td>19.59</td>\n",
       "      <td>19593057.45</td>\n",
       "      <td>5.54</td>\n",
       "      <td>20.43</td>\n",
       "      <td>5.78</td>\n",
       "    </tr>\n",
       "    <tr>\n",
       "      <th>16</th>\n",
       "      <td>Mato Grosso</td>\n",
       "      <td>3526220</td>\n",
       "      <td>13.08</td>\n",
       "      <td>13083151.70</td>\n",
       "      <td>3.71</td>\n",
       "      <td>18.65</td>\n",
       "      <td>5.29</td>\n",
       "    </tr>\n",
       "    <tr>\n",
       "      <th>17</th>\n",
       "      <td>Alagoas</td>\n",
       "      <td>3351543</td>\n",
       "      <td>13.09</td>\n",
       "      <td>13087850.40</td>\n",
       "      <td>3.91</td>\n",
       "      <td>17.31</td>\n",
       "      <td>5.17</td>\n",
       "    </tr>\n",
       "    <tr>\n",
       "      <th>18</th>\n",
       "      <td>Piauí</td>\n",
       "      <td>3281480</td>\n",
       "      <td>18.02</td>\n",
       "      <td>18019214.49</td>\n",
       "      <td>5.49</td>\n",
       "      <td>17.26</td>\n",
       "      <td>5.26</td>\n",
       "    </tr>\n",
       "    <tr>\n",
       "      <th>19</th>\n",
       "      <td>Distrito Federal</td>\n",
       "      <td>3055149</td>\n",
       "      <td>22.23</td>\n",
       "      <td>22233542.26</td>\n",
       "      <td>7.28</td>\n",
       "      <td>15.45</td>\n",
       "      <td>5.06</td>\n",
       "    </tr>\n",
       "    <tr>\n",
       "      <th>20</th>\n",
       "      <td>Mato Grosso do Sul</td>\n",
       "      <td>2809394</td>\n",
       "      <td>12.51</td>\n",
       "      <td>12508717.35</td>\n",
       "      <td>4.45</td>\n",
       "      <td>15.94</td>\n",
       "      <td>5.67</td>\n",
       "    </tr>\n",
       "    <tr>\n",
       "      <th>21</th>\n",
       "      <td>Sergipe</td>\n",
       "      <td>2318822</td>\n",
       "      <td>3.31</td>\n",
       "      <td>3312766.32</td>\n",
       "      <td>1.43</td>\n",
       "      <td>9.61</td>\n",
       "      <td>4.14</td>\n",
       "    </tr>\n",
       "    <tr>\n",
       "      <th>22</th>\n",
       "      <td>Rondônia</td>\n",
       "      <td>1796460</td>\n",
       "      <td>7.41</td>\n",
       "      <td>7407388.24</td>\n",
       "      <td>4.12</td>\n",
       "      <td>7.23</td>\n",
       "      <td>4.02</td>\n",
       "    </tr>\n",
       "    <tr>\n",
       "      <th>23</th>\n",
       "      <td>Tocantins</td>\n",
       "      <td>1590248</td>\n",
       "      <td>4.49</td>\n",
       "      <td>4489665.87</td>\n",
       "      <td>2.82</td>\n",
       "      <td>8.33</td>\n",
       "      <td>5.24</td>\n",
       "    </tr>\n",
       "    <tr>\n",
       "      <th>24</th>\n",
       "      <td>Acre</td>\n",
       "      <td>894470</td>\n",
       "      <td>1.16</td>\n",
       "      <td>1163813.08</td>\n",
       "      <td>1.30</td>\n",
       "      <td>3.26</td>\n",
       "      <td>3.65</td>\n",
       "    </tr>\n",
       "    <tr>\n",
       "      <th>25</th>\n",
       "      <td>Amapá</td>\n",
       "      <td>861773</td>\n",
       "      <td>2.16</td>\n",
       "      <td>2155083.37</td>\n",
       "      <td>2.50</td>\n",
       "      <td>3.08</td>\n",
       "      <td>3.58</td>\n",
       "    </tr>\n",
       "    <tr>\n",
       "      <th>26</th>\n",
       "      <td>Roraima</td>\n",
       "      <td>631181</td>\n",
       "      <td>2.74</td>\n",
       "      <td>2739498.41</td>\n",
       "      <td>4.34</td>\n",
       "      <td>2.35</td>\n",
       "      <td>3.72</td>\n",
       "    </tr>\n",
       "  </tbody>\n",
       "</table>\n",
       "</div>"
      ],
      "text/plain": [
       "                     uf  populacao  2020/Jul       gastos  \\\n",
       "0             São Paulo   46289333    282.71 282709570.31   \n",
       "1          Minas Gerais   21292666    120.47 120467187.34   \n",
       "2        Rio de Janeiro   17366189     71.54  71540227.33   \n",
       "3                 Bahia   14930634     58.90  58898100.40   \n",
       "4                Paraná   11516840     80.32  80320852.69   \n",
       "5     Rio Grande do Sul   11422973     78.93  78929703.81   \n",
       "6            Pernambuco    9616621     62.33  62325444.34   \n",
       "7                 Ceará    9187103     30.81  30809221.22   \n",
       "8                  Pará    8690745     27.62  27618727.51   \n",
       "9        Santa Catarina    7252502     51.76  51764534.76   \n",
       "10             Maranhão    7114598     24.37  24374205.15   \n",
       "11                Goiás    7113540     33.50  33499284.38   \n",
       "12             Amazonas    4207714     13.36  13358514.02   \n",
       "13       Espírito Santo    4064052     27.46  27460475.47   \n",
       "14              Paraíba    4039277     15.49  15491469.06   \n",
       "15  Rio Grande do Norte    3534165     19.59  19593057.45   \n",
       "16          Mato Grosso    3526220     13.08  13083151.70   \n",
       "17              Alagoas    3351543     13.09  13087850.40   \n",
       "18                Piauí    3281480     18.02  18019214.49   \n",
       "19     Distrito Federal    3055149     22.23  22233542.26   \n",
       "20   Mato Grosso do Sul    2809394     12.51  12508717.35   \n",
       "21              Sergipe    2318822      3.31   3312766.32   \n",
       "22             Rondônia    1796460      7.41   7407388.24   \n",
       "23            Tocantins    1590248      4.49   4489665.87   \n",
       "24                 Acre     894470      1.16   1163813.08   \n",
       "25                Amapá     861773      2.16   2155083.37   \n",
       "26              Roraima     631181      2.74   2739498.41   \n",
       "\n",
       "    gasto_por_habitante  2020/Jan  gasto_por_habitante_2020/jan  \n",
       "0                  6.11    301.99                          6.52  \n",
       "1                  5.66    158.10                          7.42  \n",
       "2                  4.12    122.27                          7.04  \n",
       "3                  3.94     97.47                          6.53  \n",
       "4                  6.97     79.71                          6.92  \n",
       "5                  6.91     74.37                          6.51  \n",
       "6                  6.48     69.63                          7.24  \n",
       "7                  3.35     64.55                          7.03  \n",
       "8                  3.18     53.09                          6.11  \n",
       "9                  7.14     36.31                          5.01  \n",
       "10                 3.43     37.01                          5.20  \n",
       "11                 4.71     31.26                          4.39  \n",
       "12                 3.17     27.53                          6.54  \n",
       "13                 6.76     22.20                          5.46  \n",
       "14                 3.84     18.48                          4.58  \n",
       "15                 5.54     20.43                          5.78  \n",
       "16                 3.71     18.65                          5.29  \n",
       "17                 3.91     17.31                          5.17  \n",
       "18                 5.49     17.26                          5.26  \n",
       "19                 7.28     15.45                          5.06  \n",
       "20                 4.45     15.94                          5.67  \n",
       "21                 1.43      9.61                          4.14  \n",
       "22                 4.12      7.23                          4.02  \n",
       "23                 2.82      8.33                          5.24  \n",
       "24                 1.30      3.26                          3.65  \n",
       "25                 2.50      3.08                          3.58  \n",
       "26                 4.34      2.35                          3.72  "
      ]
     },
     "execution_count": 146,
     "metadata": {},
     "output_type": "execute_result"
    }
   ],
   "source": [
    "gastos_outros_meses"
   ]
  },
  {
   "cell_type": "code",
   "execution_count": 153,
   "metadata": {},
   "outputs": [
    {
     "data": {
      "image/png": "[encoded data removed]",
      "text/plain": [
       "<Figure size 504x504 with 1 Axes>"
      ]
     },
     "metadata": {
      "needs_background": "light"
     },
     "output_type": "display_data"
    }
   ],
   "source": [
    "plt.figure(figsize=(7,7))\n",
    "sns.scatterplot(data=gastos_outros_meses, x=\"populacao\", y=\"gasto_por_habitante\")\n",
    "plt.title('Gastos por habitante de Jul/20')\n",
    "plt.legend(['Gastos por habitante 2020/Jul'])\n",
    "plt.ylabel('R$')\n",
    "plt.xlabel('População')\n",
    "plt.show()"
   ]
  },
  {
   "cell_type": "markdown",
   "metadata": {},
   "source": [
    "# Desafio 03 (Super Desafio Thiago): Plotar no mesmos gráficos do final da aula o mês anterior e o mês correte, analisar e compartilhar suas hipóteses."
   ]
  },
  {
   "cell_type": "code",
   "execution_count": 151,
   "metadata": {},
   "outputs": [
    {
     "data": {
      "image/png": "[encoded data removed]",
      "text/plain": [
       "<Figure size 504x504 with 1 Axes>"
      ]
     },
     "metadata": {
      "needs_background": "light"
     },
     "output_type": "display_data"
    }
   ],
   "source": [
    "plt.figure(figsize=(7,7))\n",
    "sns.scatterplot(data=gastos_outros_meses, x=\"populacao\", y=\"gasto_por_habitante_2020/jan\", color='r')\n",
    "sns.scatterplot(data=gastos_outros_meses, x=\"populacao\", y=\"gasto_por_habitante\")\n",
    "plt.title('Comparação gastos por habitante de Jan/20 e Jul/20')\n",
    "plt.legend(['Gastos por habitante 2020/Jan','Gastos por habitante 2020/Jul'])\n",
    "plt.ylabel('R$')\n",
    "plt.xlabel('População')\n",
    "plt.show()"
   ]
  }
 ],
 "metadata": {
  "colab": {
   "collapsed_sections": [],
   "name": "Bootcamp Data Science Hospitalar - 4",
   "provenance": []
  },
  "kernelspec": {
   "display_name": "Python 3",
   "language": "python",
   "name": "python3"
  },
  "language_info": {
   "codemirror_mode": {
    "name": "ipython",
    "version": 3
   },
   "file_extension": ".py",
   "mimetype": "text/x-python",
   "name": "python",
   "nbconvert_exporter": "python",
   "pygments_lexer": "ipython3",
   "version": "3.7.3"
  }
 },
 "nbformat": 4,
 "nbformat_minor": 1
}
